{
 "cells": [
  {
   "cell_type": "code",
   "execution_count": null,
   "metadata": {},
   "outputs": [],
   "source": [
    "# Creates a DataFrame from a specified directory\n",
    "df = spark.read.format(\"com.databricks.spark.avro\").load(\"FlumeData.1593968523527.avro\")\n",
    "\n",
    "#  Saves the subset of the Avro records read in\n",
    "subset = df.where(\"doctor > 5\")\n",
    "subset.write.format(\"com.databricks.spark.avro\").save(\"/tmp/output\")"
   ]
  }
 ],
 "metadata": {
  "kernelspec": {
   "display_name": "Python 3",
   "language": "python",
   "name": "python3"
  },
  "language_info": {
   "codemirror_mode": {
    "name": "ipython",
    "version": 3
   },
   "file_extension": ".py",
   "mimetype": "text/x-python",
   "name": "python",
   "nbconvert_exporter": "python",
   "pygments_lexer": "ipython3",
   "version": "3.7.7"
  }
 },
 "nbformat": 4,
 "nbformat_minor": 4
}
