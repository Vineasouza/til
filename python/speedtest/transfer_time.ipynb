{
 "cells": [
  {
   "cell_type": "code",
   "execution_count": 1,
   "id": "excellent-tactics",
   "metadata": {},
   "outputs": [],
   "source": [
    "import math"
   ]
  },
  {
   "cell_type": "code",
   "execution_count": 2,
   "id": "going-steel",
   "metadata": {},
   "outputs": [],
   "source": [
    "megabyte_to_bytes = pow(10,6) #megabytes to bytes\n",
    "megabits_to_bits = pow(10,6)  #megabits to bits\n",
    "segundos_to_horas = 60*60 "
   ]
  },
  {
   "cell_type": "code",
   "execution_count": 3,
   "id": "processed-cruise",
   "metadata": {},
   "outputs": [
    {
     "name": "stdout",
     "output_type": "stream",
     "text": [
      "Tamanho do dado de tranferencia em megabytes: 40000\n"
     ]
    }
   ],
   "source": [
    "valor_mb= int(input(\"Tamanho do dado de tranferencia em megabytes: \"))"
   ]
  },
  {
   "cell_type": "code",
   "execution_count": 4,
   "id": "banned-vault",
   "metadata": {},
   "outputs": [],
   "source": [
    "valor_transferencia_bytes = valor_mb * megabyte_to_bytes"
   ]
  },
  {
   "cell_type": "code",
   "execution_count": 5,
   "id": "approved-reducing",
   "metadata": {},
   "outputs": [],
   "source": [
    "valor_transferencia_bits = valor_transferencia_bytes * 8"
   ]
  },
  {
   "cell_type": "code",
   "execution_count": 6,
   "id": "confused-printer",
   "metadata": {},
   "outputs": [
    {
     "name": "stdout",
     "output_type": "stream",
     "text": [
      "Velocidade de internet em mbps: 100\n"
     ]
    }
   ],
   "source": [
    "velocidade_internet_megabits = int(input(\"Velocidade de internet em mbps: \"))"
   ]
  },
  {
   "cell_type": "code",
   "execution_count": 7,
   "id": "approved-manor",
   "metadata": {},
   "outputs": [],
   "source": [
    "valor_internet_bits = velocidade_internet_megabits * megabits_to_bits"
   ]
  },
  {
   "cell_type": "code",
   "execution_count": 8,
   "id": "prepared-conjunction",
   "metadata": {},
   "outputs": [],
   "source": [
    "transferencia_por_segundo = valor_transferencia_bits / valor_internet_bits"
   ]
  },
  {
   "cell_type": "code",
   "execution_count": 9,
   "id": "experimental-debate",
   "metadata": {},
   "outputs": [],
   "source": [
    "tempo_transferencia_horas = transferencia_por_segundo/segundos_to_horas"
   ]
  },
  {
   "cell_type": "code",
   "execution_count": 12,
   "id": "hearing-smoke",
   "metadata": {},
   "outputs": [
    {
     "name": "stdout",
     "output_type": "stream",
     "text": [
      "Tempo de transferencia em horas:  0.8888888888888888\n"
     ]
    }
   ],
   "source": [
    "print(\"Tempo de transferencia em horas: \", tempo_transferencia_horas)"
   ]
  },
  {
   "cell_type": "code",
   "execution_count": null,
   "id": "beautiful-ethics",
   "metadata": {},
   "outputs": [],
   "source": []
  }
 ],
 "metadata": {
  "kernelspec": {
   "display_name": "Python 3",
   "language": "python",
   "name": "python3"
  },
  "language_info": {
   "codemirror_mode": {
    "name": "ipython",
    "version": 3
   },
   "file_extension": ".py",
   "mimetype": "text/x-python",
   "name": "python",
   "nbconvert_exporter": "python",
   "pygments_lexer": "ipython3",
   "version": "3.9.1"
  }
 },
 "nbformat": 4,
 "nbformat_minor": 5
}
