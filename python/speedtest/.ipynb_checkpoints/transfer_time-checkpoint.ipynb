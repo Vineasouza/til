{
 "cells": [
  {
   "cell_type": "code",
   "execution_count": 3,
   "id": "provincial-pollution",
   "metadata": {},
   "outputs": [],
   "source": [
    "from bitmath import *\n",
    "import bitmath"
   ]
  },
  {
   "cell_type": "code",
   "execution_count": 5,
   "id": "hourly-coaching",
   "metadata": {},
   "outputs": [],
   "source": [
    "log_size = bitmath.kB(137.4)\n",
    "log_zipped_size = bitmath.Byte(987)"
   ]
  },
  {
   "cell_type": "code",
   "execution_count": 9,
   "id": "increasing-console",
   "metadata": {},
   "outputs": [
    {
     "name": "stdout",
     "output_type": "stream",
     "text": [
      "Compression saved %s space 136.413 kB\n"
     ]
    }
   ],
   "source": [
    "print(\"Compression saved %f space\", log_size - log_zipped_size)"
   ]
  },
  {
   "cell_type": "code",
   "execution_count": null,
   "id": "confirmed-planning",
   "metadata": {},
   "outputs": [],
   "source": []
  }
 ],
 "metadata": {
  "kernelspec": {
   "display_name": "Python 3",
   "language": "python",
   "name": "python3"
  },
  "language_info": {
   "codemirror_mode": {
    "name": "ipython",
    "version": 3
   },
   "file_extension": ".py",
   "mimetype": "text/x-python",
   "name": "python",
   "nbconvert_exporter": "python",
   "pygments_lexer": "ipython3",
   "version": "3.9.1"
  }
 },
 "nbformat": 4,
 "nbformat_minor": 5
}
